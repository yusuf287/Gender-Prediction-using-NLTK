{
 "cells": [
  {
   "cell_type": "code",
   "execution_count": 2,
   "metadata": {
    "collapsed": true
   },
   "outputs": [],
   "source": [
    "import nltk"
   ]
  },
  {
   "cell_type": "code",
   "execution_count": 3,
   "metadata": {
    "collapsed": true
   },
   "outputs": [],
   "source": [
    "# import dataset from nltk corpus to train the model.   \n",
    "from nltk.corpus import names"
   ]
  },
  {
   "cell_type": "code",
   "execution_count": 4,
   "metadata": {},
   "outputs": [
    {
     "name": "stdout",
     "output_type": "stream",
     "text": [
      "2943\n",
      "5001\n"
     ]
    }
   ],
   "source": [
    "print(len(names.words('male.txt')))\n",
    "print(len(names.words('female.txt')))"
   ]
  },
  {
   "cell_type": "code",
   "execution_count": 5,
   "metadata": {
    "collapsed": true
   },
   "outputs": [],
   "source": [
    "# Annotate the dataset with category male and female label\n",
    "labeled_names = ([(name, 'male') for name in names.words('male.txt')] +\n",
    "                 [(name, 'female') for name in names.words('female.txt')])"
   ]
  },
  {
   "cell_type": "code",
   "execution_count": 6,
   "metadata": {
    "collapsed": true
   },
   "outputs": [],
   "source": [
    "# import random module to shuffle dataset \n",
    "import random\n",
    "random.shuffle(labeled_names)"
   ]
  },
  {
   "cell_type": "code",
   "execution_count": 8,
   "metadata": {
    "collapsed": true
   },
   "outputs": [],
   "source": [
    "#Extracting last letter:\n",
    "def gender_features(word):\n",
    "    return {'last_letter':word[-1]}"
   ]
  },
  {
   "cell_type": "code",
   "execution_count": 9,
   "metadata": {
    "collapsed": true
   },
   "outputs": [],
   "source": [
    "#Extracting more features:\n",
    "def gender_features2(name):\n",
    "    features = {}\n",
    "#     features['first_letter'] = name[0].lower()\n",
    "    features['first_two_letter'] = name[:2].lower()\n",
    "    features['last_letter'] = name[-1].lower()\n",
    "    features['last_two_letters'] = name[-2:].lower()\n",
    "    features['last_three_letters'] = name[-3:].lower()\n",
    "#     for letter in 'abcdefghijklmnopqrstuvwxyz':\n",
    "#         features['count({})'.format(letter)] = name.lower().count(letter)\n",
    "#         features['has({})'.format(letter)] = (letter in name.lower())\n",
    "#     vowel = 0\n",
    "#     for letter in 'aeiou':\n",
    "#         vowel += name.lower().count(letter)\n",
    "#         features['vowel({})'.format(letter)] = name.lower().count(letter)    \n",
    "#     features['vowel_ratio'] = vowel/len(name)\n",
    "#     features['vowel_ratio'] = vowel\n",
    "    return features"
   ]
  },
  {
   "cell_type": "code",
   "execution_count": 10,
   "metadata": {
    "collapsed": true
   },
   "outputs": [],
   "source": [
    "#Divide into training, DevTest and Testing dataset:\n",
    "train_names = labeled_names[1500:]\n",
    "devtest_names = labeled_names[500:1500]\n",
    "test_names = labeled_names[:500]"
   ]
  },
  {
   "cell_type": "code",
   "execution_count": 11,
   "metadata": {
    "collapsed": true
   },
   "outputs": [],
   "source": [
    "#Generate features using apply_featues function\n",
    "from nltk.classify import apply_features\n",
    "\n",
    "train_set = apply_features(gender_features2, labeled_names[500:])\n",
    "test_set = apply_features(gender_features2, labeled_names[:500])"
   ]
  },
  {
   "cell_type": "code",
   "execution_count": 12,
   "metadata": {
    "collapsed": true
   },
   "outputs": [],
   "source": [
    "#Optional for dividing datset into training and testing group\n",
    "train_set = [(gender_features2(n), gender) for (n, gender) in train_names]\n",
    "devtest_set = [(gender_features2(n), gender) for (n, gender) in devtest_names]\n",
    "test_set = [(gender_features2(n), gender) for (n, gender) in test_names]"
   ]
  },
  {
   "cell_type": "code",
   "execution_count": 13,
   "metadata": {},
   "outputs": [
    {
     "data": {
      "text/plain": [
       "0.809"
      ]
     },
     "execution_count": 13,
     "metadata": {},
     "output_type": "execute_result"
    }
   ],
   "source": [
    "#Train our model\n",
    "classifier = nltk.NaiveBayesClassifier.train(train_set)\n",
    "nltk.classify.accuracy(classifier, devtest_set)"
   ]
  },
  {
   "cell_type": "code",
   "execution_count": 20,
   "metadata": {
    "scrolled": true
   },
   "outputs": [
    {
     "data": {
      "text/plain": [
       "'male'"
      ]
     },
     "execution_count": 20,
     "metadata": {},
     "output_type": "execute_result"
    }
   ],
   "source": [
    "#Testing the names\n",
    "classifier.classify(gender_features2('John'))"
   ]
  },
  {
   "cell_type": "code",
   "execution_count": 269,
   "metadata": {
    "scrolled": true
   },
   "outputs": [
    {
     "name": "stdout",
     "output_type": "stream",
     "text": [
      "Most Informative Features\n",
      "        last_two_letters = 'na'           female : male   =     91.0 : 1.0\n",
      "        last_two_letters = 'la'           female : male   =     65.3 : 1.0\n",
      "        last_two_letters = 'us'             male : female =     36.6 : 1.0\n",
      "        last_two_letters = 'ia'           female : male   =     33.9 : 1.0\n",
      "        last_two_letters = 'sa'           female : male   =     32.9 : 1.0\n",
      "             last_letter = 'a'            female : male   =     31.6 : 1.0\n",
      "        last_two_letters = 'rt'             male : female =     27.4 : 1.0\n",
      "             last_letter = 'k'              male : female =     26.2 : 1.0\n",
      "        last_two_letters = 'do'             male : female =     24.8 : 1.0\n",
      "      last_three_letters = 'ana'          female : male   =     23.6 : 1.0\n"
     ]
    }
   ],
   "source": [
    "classifier.show_most_informative_features(10)"
   ]
  },
  {
   "cell_type": "code",
   "execution_count": 22,
   "metadata": {
    "collapsed": true
   },
   "outputs": [],
   "source": [
    "#Detecting errors:\n",
    "errors = []\n",
    "for (name, tag) in devtest_names:\n",
    "    guess = classifier.classify(gender_features2(name))\n",
    "    if (guess != tag):\n",
    "        errors.append((tag, guess, name))"
   ]
  },
  {
   "cell_type": "code",
   "execution_count": 23,
   "metadata": {},
   "outputs": [
    {
     "name": "stdout",
     "output_type": "stream",
     "text": [
      "correct=female   guess=male     name:Abigael                       \n",
      "correct=female   guess=male     name:Adah                          \n",
      "correct=female   guess=male     name:Alex                          \n",
      "correct=female   guess=male     name:Alexis                        \n",
      "correct=female   guess=male     name:Alisun                        \n",
      "correct=female   guess=male     name:April                         \n",
      "correct=female   guess=male     name:Ardyce                        \n",
      "correct=female   guess=male     name:Ashley                        \n",
      "correct=female   guess=male     name:Astrid                        \n",
      "correct=female   guess=male     name:Aurel                         \n",
      "correct=female   guess=male     name:Bamby                         \n",
      "correct=female   guess=male     name:Beilul                        \n",
      "correct=female   guess=male     name:Berry                         \n",
      "correct=female   guess=male     name:Brier                         \n",
      "correct=female   guess=male     name:Briteny                       \n",
      "correct=female   guess=male     name:Cal                           \n",
      "correct=female   guess=male     name:Carin                         \n",
      "correct=female   guess=male     name:Carolin                       \n",
      "correct=female   guess=male     name:Charmian                      \n",
      "correct=female   guess=male     name:Cherey                        \n",
      "correct=female   guess=male     name:Christian                     \n",
      "correct=female   guess=male     name:Chrysler                      \n",
      "correct=female   guess=male     name:Cinnamon                      \n",
      "correct=female   guess=male     name:Clarey                        \n",
      "correct=female   guess=male     name:Clary                         \n",
      "correct=female   guess=male     name:Corey                         \n",
      "correct=female   guess=male     name:Dagmar                        \n",
      "correct=female   guess=male     name:Dew                           \n",
      "correct=female   guess=male     name:Dido                          \n",
      "correct=female   guess=male     name:Doralin                       \n",
      "correct=female   guess=male     name:Doris                         \n",
      "correct=female   guess=male     name:Dorris                        \n",
      "correct=female   guess=male     name:Dusty                         \n",
      "correct=female   guess=male     name:Eddy                          \n",
      "correct=female   guess=male     name:Eden                          \n",
      "correct=female   guess=male     name:Elinor                        \n",
      "correct=female   guess=male     name:Erinn                         \n",
      "correct=female   guess=male     name:Ester                         \n",
      "correct=female   guess=male     name:Esther                        \n",
      "correct=female   guess=male     name:Fallon                        \n",
      "correct=female   guess=male     name:Fran                          \n",
      "correct=female   guess=male     name:Fred                          \n",
      "correct=female   guess=male     name:Garnet                        \n",
      "correct=female   guess=male     name:George                        \n",
      "correct=female   guess=male     name:Gredel                        \n",
      "correct=female   guess=male     name:Grethel                       \n",
      "correct=female   guess=male     name:Guendolen                     \n",
      "correct=female   guess=male     name:Hally                         \n",
      "correct=female   guess=male     name:Hannibal                      \n",
      "correct=female   guess=male     name:Harmony                       \n",
      "correct=female   guess=male     name:Hayley                        \n",
      "correct=female   guess=male     name:Hildagard                     \n",
      "correct=female   guess=male     name:Hildegaard                    \n",
      "correct=female   guess=male     name:Ines                          \n",
      "correct=female   guess=male     name:Ingeborg                      \n",
      "correct=female   guess=male     name:Jacklin                       \n",
      "correct=female   guess=male     name:Jackquelin                    \n",
      "correct=female   guess=male     name:Jaclin                        \n",
      "correct=female   guess=male     name:Jaleh                         \n",
      "correct=female   guess=male     name:Joey                          \n",
      "correct=female   guess=male     name:Joyce                         \n",
      "correct=female   guess=male     name:Karin                         \n",
      "correct=female   guess=male     name:Kat                           \n",
      "correct=female   guess=male     name:Katey                         \n",
      "correct=female   guess=male     name:Kiersten                      \n",
      "correct=female   guess=male     name:Konstance                     \n",
      "correct=female   guess=male     name:Lark                          \n",
      "correct=female   guess=male     name:Lou                           \n",
      "correct=female   guess=male     name:Lyndell                       \n",
      "correct=female   guess=male     name:Lyndsay                       \n",
      "correct=female   guess=male     name:Maddy                         \n",
      "correct=female   guess=male     name:Mariam                        \n",
      "correct=female   guess=male     name:Marilin                       \n",
      "correct=female   guess=male     name:Meg                           \n",
      "correct=female   guess=male     name:Mellisent                     \n",
      "correct=female   guess=male     name:Meriel                        \n",
      "correct=female   guess=male     name:Muffin                        \n",
      "correct=female   guess=male     name:Nanon                         \n",
      "correct=female   guess=male     name:Oliy                          \n",
      "correct=female   guess=male     name:Paige                         \n",
      "correct=female   guess=male     name:Pam                           \n",
      "correct=female   guess=male     name:Pammy                         \n",
      "correct=female   guess=male     name:Pen                           \n",
      "correct=female   guess=male     name:Pet                           \n",
      "correct=female   guess=male     name:Raychel                       \n",
      "correct=female   guess=male     name:Regan                         \n",
      "correct=female   guess=male     name:Rhianon                       \n",
      "correct=female   guess=male     name:Rianon                        \n",
      "correct=female   guess=male     name:Roch                          \n",
      "correct=female   guess=male     name:Rosamund                      \n",
      "correct=female   guess=male     name:Roselin                       \n",
      "correct=female   guess=male     name:Scarlet                       \n",
      "correct=female   guess=male     name:Scarlett                      \n",
      "correct=female   guess=male     name:Scotty                        \n",
      "correct=female   guess=male     name:Shamit                        \n",
      "correct=female   guess=male     name:Tatum                         \n",
      "correct=female   guess=male     name:Ted                           \n",
      "correct=female   guess=male     name:Tiffy                         \n",
      "correct=female   guess=male     name:Valery                        \n",
      "correct=female   guess=male     name:Vin                           \n",
      "correct=female   guess=male     name:Wandis                        \n",
      "correct=female   guess=male     name:Wilow                         \n",
      "correct=male     guess=female   name:Abbey                         \n",
      "correct=male     guess=female   name:Aditya                        \n",
      "correct=male     guess=female   name:Allyn                         \n",
      "correct=male     guess=female   name:Andie                         \n",
      "correct=male     guess=female   name:Andonis                       \n",
      "correct=male     guess=female   name:Arne                          \n",
      "correct=male     guess=female   name:Augustine                     \n",
      "correct=male     guess=female   name:Baillie                       \n",
      "correct=male     guess=female   name:Baily                         \n",
      "correct=male     guess=female   name:Claybourne                    \n",
      "correct=male     guess=female   name:Clemente                      \n",
      "correct=male     guess=female   name:Connolly                      \n",
      "correct=male     guess=female   name:Dane                          \n",
      "correct=male     guess=female   name:Danie                         \n",
      "correct=male     guess=female   name:Darryl                        \n",
      "correct=male     guess=female   name:Denis                         \n",
      "correct=male     guess=female   name:Dennie                        \n",
      "correct=male     guess=female   name:Dewey                         \n",
      "correct=male     guess=female   name:Dickie                        \n",
      "correct=male     guess=female   name:Dory                          \n",
      "correct=male     guess=female   name:Douglis                       \n",
      "correct=male     guess=female   name:Duane                         \n",
      "correct=male     guess=female   name:Earl                          \n",
      "correct=male     guess=female   name:Eddie                         \n",
      "correct=male     guess=female   name:Elwyn                         \n",
      "correct=male     guess=female   name:Fonsie                        \n",
      "correct=male     guess=female   name:Freddie                       \n",
      "correct=male     guess=female   name:Glenn                         \n",
      "correct=male     guess=female   name:Harvie                        \n",
      "correct=male     guess=female   name:Henri                         \n",
      "correct=male     guess=female   name:Henrie                        \n",
      "correct=male     guess=female   name:Hermann                       \n",
      "correct=male     guess=female   name:Isadore                       \n",
      "correct=male     guess=female   name:Isidore                       \n",
      "correct=male     guess=female   name:Jaime                         \n",
      "correct=male     guess=female   name:Jeramie                       \n",
      "correct=male     guess=female   name:Jeth                          \n",
      "correct=male     guess=female   name:Jo                            \n",
      "correct=male     guess=female   name:Jody                          \n",
      "correct=male     guess=female   name:Johann                        \n",
      "correct=male     guess=female   name:Jory                          \n",
      "correct=male     guess=female   name:Laurie                        \n",
      "correct=male     guess=female   name:Lindsay                       \n",
      "correct=male     guess=female   name:Lindy                         \n",
      "correct=male     guess=female   name:Loren                         \n",
      "correct=male     guess=female   name:Meade                         \n",
      "correct=male     guess=female   name:Mel                           \n",
      "correct=male     guess=female   name:Merril                        \n",
      "correct=male     guess=female   name:Natale                        \n",
      "correct=male     guess=female   name:Nikita                        \n",
      "correct=male     guess=female   name:Nikki                         \n",
      "correct=male     guess=female   name:Ollie                         \n",
      "correct=male     guess=female   name:Percy                         \n",
      "correct=male     guess=female   name:Phil                          \n",
      "correct=male     guess=female   name:Pooh                          \n",
      "correct=male     guess=female   name:Reece                         \n",
      "correct=male     guess=female   name:Rene                          \n",
      "correct=male     guess=female   name:Reza                          \n",
      "correct=male     guess=female   name:Roice                         \n",
      "correct=male     guess=female   name:Ronnie                        \n",
      "correct=male     guess=female   name:Ronny                         \n",
      "correct=male     guess=female   name:Sandy                         \n",
      "correct=male     guess=female   name:Seth                          \n",
      "correct=male     guess=female   name:Shay                          \n",
      "correct=male     guess=female   name:Shayne                        \n",
      "correct=male     guess=female   name:Shorty                        \n",
      "correct=male     guess=female   name:Stacy                         \n",
      "correct=male     guess=female   name:Sterne                        \n",
      "correct=male     guess=female   name:Stillmann                     \n",
      "correct=male     guess=female   name:Sydney                        \n",
      "correct=male     guess=female   name:Tabbie                        \n",
      "correct=male     guess=female   name:Tabby                         \n",
      "correct=male     guess=female   name:Taite                         \n",
      "correct=male     guess=female   name:Tally                         \n",
      "correct=male     guess=female   name:Tanny                         \n",
      "correct=male     guess=female   name:Tate                          \n",
      "correct=male     guess=female   name:Theodore                      \n",
      "correct=male     guess=female   name:Tracey                        \n",
      "correct=male     guess=female   name:Tracie                        \n",
      "correct=male     guess=female   name:Tracy                         \n",
      "correct=male     guess=female   name:Tremayne                      \n",
      "correct=male     guess=female   name:Tyrone                        \n",
      "correct=male     guess=female   name:Valentine                     \n",
      "correct=male     guess=female   name:Vasily                        \n",
      "correct=male     guess=female   name:Vinny                         \n",
      "correct=male     guess=female   name:Wallie                        \n",
      "correct=male     guess=female   name:Wayne                         \n",
      "correct=male     guess=female   name:Zippy                         \n",
      "correct=male     guess=female   name:Zollie                        \n"
     ]
    }
   ],
   "source": [
    "count = 0\n",
    "for (tag, guess, name) in sorted(errors):\n",
    "    print('correct={:<8} guess={:<8} name:{:<30}'.format(tag, guess, name))\n",
    "    count+=1"
   ]
  },
  {
   "cell_type": "markdown",
   "metadata": {},
   "source": [
    "### Thanks :) "
   ]
  },
  {
   "cell_type": "code",
   "execution_count": null,
   "metadata": {
    "collapsed": true
   },
   "outputs": [],
   "source": []
  }
 ],
 "metadata": {
  "kernelspec": {
   "display_name": "Python 3",
   "language": "python",
   "name": "python3"
  },
  "language_info": {
   "codemirror_mode": {
    "name": "ipython",
    "version": 3
   },
   "file_extension": ".py",
   "mimetype": "text/x-python",
   "name": "python",
   "nbconvert_exporter": "python",
   "pygments_lexer": "ipython3",
   "version": "3.6.3"
  }
 },
 "nbformat": 4,
 "nbformat_minor": 2
}
